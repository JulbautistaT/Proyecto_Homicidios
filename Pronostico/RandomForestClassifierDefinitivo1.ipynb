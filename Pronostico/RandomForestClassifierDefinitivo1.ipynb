{
  "nbformat": 4,
  "nbformat_minor": 0,
  "metadata": {
    "colab": {
      "provenance": [],
      "include_colab_link": true
    },
    "kernelspec": {
      "name": "python3",
      "display_name": "Python 3"
    },
    "language_info": {
      "name": "python"
    }
  },
  "cells": [
    {
      "cell_type": "markdown",
      "metadata": {
        "id": "view-in-github",
        "colab_type": "text"
      },
      "source": [
        "<a href=\"https://colab.research.google.com/github/JulbautistaT/Proyecto_Homicidios/blob/main/RandomForestClassifierDefinitivo1.ipynb\" target=\"_parent\"><img src=\"https://colab.research.google.com/assets/colab-badge.svg\" alt=\"Open In Colab\"/></a>"
      ]
    },
    {
      "cell_type": "code",
      "execution_count": null,
      "metadata": {
        "id": "S9WfF_gR_ohe"
      },
      "outputs": [],
      "source": [
        "import pandas as pd\n",
        "import numpy as np\n",
        "from sklearn.model_selection import train_test_split, cross_val_score\n",
        "from sklearn.ensemble import RandomForestClassifier\n",
        "from sklearn.preprocessing import LabelEncoder, StandardScaler\n",
        "from sklearn.metrics import classification_report, confusion_matrix\n",
        "from sklearn.utils import resample\n",
        "import seaborn as sns\n",
        "import matplotlib.pyplot as plt"
      ]
    },
    {
      "cell_type": "code",
      "source": [
        "def preprocess_data(df):\n",
        "    \"\"\"Preprocesamiento con mayor reducción de información\"\"\"\n",
        "    df_processed = df.copy()\n",
        "\n",
        "    # Simplificar características temporales al máximo\n",
        "    df_processed['fecha'] = pd.to_datetime(df_processed['Fecha_hecho'], format='%d/%m/%Y')\n",
        "    df_processed['semestre'] = (df_processed['fecha'].dt.month > 6).astype(int)  # Solo 2 períodos\n",
        "    df_processed['año'] = df_processed['fecha'].dt.year\n",
        "\n",
        "    # Estadísticas semestrales muy básicas\n",
        "    semester_stats = df_processed.groupby(['Municipio', 'año', 'semestre'])['Cantidad'].agg([\n",
        "        ('avg_accidents', 'mean')\n",
        "    ]).reset_index()\n",
        "\n",
        "    df_processed = df_processed.merge(\n",
        "        semester_stats,\n",
        "        on=['Municipio', 'año', 'semestre'],\n",
        "        how='left'\n",
        "    )\n",
        "\n",
        "    # Agrupación muy agresiva de categorías\n",
        "    categorical_columns = ['Departamento', 'Municipio', 'Armas_medios']\n",
        "\n",
        "    for col in categorical_columns:\n",
        "        # Mantener solo las top N categorías más frecuentes\n",
        "        top_n = 5 if col != 'Municipio' else 10\n",
        "        top_categories = df_processed[col].value_counts().nlargest(top_n).index\n",
        "        df_processed[col] = df_processed[col].apply(lambda x: x if x in top_categories else 'Other')\n",
        "\n",
        "        # Codificación con ruido significativo\n",
        "        le = LabelEncoder()\n",
        "        df_processed[f'{col}_encoded'] = le.fit_transform(df_processed[col])\n",
        "        noise = np.random.normal(0, 0.1, size=len(df_processed))\n",
        "        df_processed[f'{col}_encoded'] = df_processed[f'{col}_encoded'] + noise\n",
        "\n",
        "    # Normalización con ruido significativo\n",
        "    scaler = StandardScaler()\n",
        "    df_processed['avg_accidents'] = scaler.fit_transform(df_processed[['avg_accidents']])\n",
        "    df_processed['avg_accidents'] += np.random.normal(0, 0.15, size=len(df_processed))\n",
        "\n",
        "    return df_processed"
      ],
      "metadata": {
        "id": "AnX6LTQm_0VJ"
      },
      "execution_count": null,
      "outputs": []
    },
    {
      "cell_type": "code",
      "source": [
        "def prepare_features(df):\n",
        "    \"\"\"Conjunto mínimo de features\"\"\"\n",
        "    features = [\n",
        "        'Departamento_encoded',\n",
        "        'Municipio_encoded',\n",
        "        'semestre',\n",
        "        'avg_accidents'\n",
        "    ]\n",
        "    return df[features]\n"
      ],
      "metadata": {
        "id": "8qNoioFKAgM5"
      },
      "execution_count": null,
      "outputs": []
    },
    {
      "cell_type": "code",
      "source": [
        "def create_target_variable(df):\n",
        "    \"\"\"\n",
        "    Target variable con umbral dinámico y ruido\n",
        "    \"\"\"\n",
        "    semester_accidents = df.groupby(['Municipio', 'año', 'semestre'])['Cantidad'].mean().reset_index()\n",
        "\n",
        "    # Añadir ruido significativo\n",
        "    noise = np.random.normal(0, semester_accidents['Cantidad'].std() * 0.2, size=len(semester_accidents))\n",
        "    semester_accidents['Cantidad'] += noise\n",
        "\n",
        "    # Umbral dinámico basado en la mediana móvil\n",
        "    rolling_median = semester_accidents['Cantidad'].rolling(window=3, min_periods=1).median()\n",
        "    threshold = rolling_median * 1.2  # 20% sobre la mediana móvil\n",
        "\n",
        "    high_risk = semester_accidents['Cantidad'] > threshold\n",
        "    risk_labels = semester_accidents.assign(is_high_risk=high_risk.astype(int))\n",
        "\n",
        "    return df.merge(\n",
        "        risk_labels[['Municipio', 'año', 'semestre', 'is_high_risk']],\n",
        "        on=['Municipio', 'año', 'semestre'],\n",
        "        how='left'\n",
        "    )['is_high_risk']"
      ],
      "metadata": {
        "id": "Ug-0T-ZeAnD1"
      },
      "execution_count": null,
      "outputs": []
    },
    {
      "cell_type": "code",
      "source": [
        "def train_model(X, y):\n",
        "    \"\"\"Entrenamiento con submuestreo y parámetros muy restrictivos\"\"\"\n",
        "    # Submuestreo de la clase mayoritaria\n",
        "    X_df = pd.DataFrame(X)\n",
        "    y_df = pd.Series(y)\n",
        "\n",
        "    # Separar clases\n",
        "    df_majority = X_df[y_df == 0]\n",
        "    df_minority = X_df[y_df == 1]\n",
        "\n",
        "    # Submuestreo de la clase mayoritaria\n",
        "    df_majority_downsampled = resample(\n",
        "        df_majority,\n",
        "        n_samples=len(df_minority) * 3,  # Mantener ratio 3:1\n",
        "        random_state=42\n",
        "    )\n",
        "\n",
        "    # Combinar datasets\n",
        "    X_balanced = pd.concat([df_majority_downsampled, df_minority])\n",
        "    y_balanced = pd.concat([\n",
        "        pd.Series(0, index=df_majority_downsampled.index),\n",
        "        pd.Series(1, index=df_minority.index)\n",
        "    ])\n",
        "\n",
        "    # Split con datos balanceados\n",
        "    X_train, X_test, y_train, y_test = train_test_split(\n",
        "        X_balanced, y_balanced,\n",
        "        test_size=0.3,\n",
        "        random_state=42,\n",
        "        stratify=y_balanced\n",
        "    )\n",
        "\n",
        "    model = RandomForestClassifier(\n",
        "        n_estimators=30,          # Muy pocos árboles\n",
        "        max_depth=3,              # Profundidad muy limitada\n",
        "        min_samples_split=30,     # Muestras mínimas muy altas\n",
        "        min_samples_leaf=20,\n",
        "        max_features='sqrt',\n",
        "        class_weight='balanced',\n",
        "        random_state=42,\n",
        "        bootstrap=True,\n",
        "        max_samples=0.5           # Usar solo 50% de las muestras\n",
        "    )\n",
        "\n",
        "    # Validación cruzada\n",
        "    cv_scores = cross_val_score(model, X_train, y_train, cv=5)\n",
        "    print(f\"\\nCV Scores: {cv_scores}\")\n",
        "    print(f\"Mean CV Score: {cv_scores.mean():.3f} (+/- {cv_scores.std() * 2:.3f})\")\n",
        "\n",
        "    model.fit(X_train, y_train)\n",
        "\n",
        "    return model, X_test, y_test"
      ],
      "metadata": {
        "id": "jOTZ_M4PAoO6"
      },
      "execution_count": null,
      "outputs": []
    },
    {
      "cell_type": "code",
      "source": [
        "def evaluate_model(model, X_test, y_test):\n",
        "    \"\"\"Evaluación completa del modelo\"\"\"\n",
        "    predictions = model.predict(X_test)\n",
        "    probas = model.predict_proba(X_test)\n",
        "\n",
        "    print(\"\\nReporte de clasificación:\")\n",
        "    print(classification_report(y_test, predictions))\n",
        "\n",
        "    # Matriz de confusión\n",
        "    cm = confusion_matrix(y_test, predictions)\n",
        "    plt.figure(figsize=(8, 6))\n",
        "    sns.heatmap(cm, annot=True, fmt='d', cmap='Blues')\n",
        "    plt.title('Matriz de Confusión')\n",
        "    plt.ylabel('Verdadero')\n",
        "    plt.xlabel('Predicho')\n",
        "    plt.show()\n",
        "\n",
        "    # Importancia de características\n",
        "    feature_importance = pd.DataFrame({\n",
        "        'feature': X_test.columns,\n",
        "        'importance': model.feature_importances_\n",
        "    }).sort_values('importance', ascending=False)\n",
        "\n",
        "    print(\"\\nImportancia de características:\")\n",
        "    print(feature_importance)\n",
        "\n",
        "    # Distribución de probabilidades\n",
        "    plt.figure(figsize=(8, 6))\n",
        "    plt.hist(probas[:, 1], bins=50)\n",
        "    plt.title('Distribución de Probabilidades Predichas')\n",
        "    plt.xlabel('Probabilidad de Clase 1')\n",
        "    plt.ylabel('Frecuencia')\n",
        "    plt.show()\n",
        "\n",
        "    return feature_importance"
      ],
      "metadata": {
        "id": "QJRwj3H9Ar50"
      },
      "execution_count": null,
      "outputs": []
    },
    {
      "cell_type": "code",
      "source": [
        "def make_prediction(model, new_data, scaler=None):\n",
        "    \"\"\"\n",
        "    Realiza predicciones para nuevos datos\n",
        "\n",
        "    Args:\n",
        "        model: Modelo entrenado\n",
        "        new_data: DataFrame con las características necesarias\n",
        "        scaler: Objeto StandardScaler (opcional)\n",
        "\n",
        "    Returns:\n",
        "        Tuple con predicción (0 o 1) y probabilidad de clase positiva\n",
        "    \"\"\"\n",
        "    # Hacer la predicción\n",
        "    prediction = model.predict(new_data)[0]\n",
        "    probability = model.predict_proba(new_data)[0][1]\n",
        "\n",
        "    return prediction, probability"
      ],
      "metadata": {
        "id": "p2Ru3dGt_4Ln"
      },
      "execution_count": null,
      "outputs": []
    },
    {
      "cell_type": "code",
      "source": [
        "# 1. Cargar los datos\n",
        "print(\"Cargando datos...\")\n",
        "df = pd.read_csv('/content/Homicidios_limpio (1).csv')"
      ],
      "metadata": {
        "colab": {
          "base_uri": "https://localhost:8080/"
        },
        "id": "JiHhOBrOA2s_",
        "outputId": "a50a2c59-42a6-4a27-f15a-1bc158baab24"
      },
      "execution_count": null,
      "outputs": [
        {
          "output_type": "stream",
          "name": "stdout",
          "text": [
            "Cargando datos...\n"
          ]
        }
      ]
    },
    {
      "cell_type": "code",
      "source": [
        "# 2. Procesar los datos\n",
        "print(\"Procesando datos...\")\n",
        "df_procesado = preprocess_data(df)\n",
        "df_procesado.info()"
      ],
      "metadata": {
        "colab": {
          "base_uri": "https://localhost:8080/"
        },
        "id": "Y0jk6__uA3-P",
        "outputId": "d1c8f187-d198-4b3c-8014-11302f4403a3"
      },
      "execution_count": null,
      "outputs": [
        {
          "output_type": "stream",
          "name": "stdout",
          "text": [
            "Procesando datos...\n",
            "<class 'pandas.core.frame.DataFrame'>\n",
            "RangeIndex: 22920 entries, 0 to 22919\n",
            "Data columns (total 14 columns):\n",
            " #   Column                Non-Null Count  Dtype         \n",
            "---  ------                --------------  -----         \n",
            " 0   Departamento          22920 non-null  object        \n",
            " 1   Municipio             22920 non-null  object        \n",
            " 2   Armas_medios          22920 non-null  object        \n",
            " 3   Fecha_hecho           22920 non-null  object        \n",
            " 4   Genero                22920 non-null  object        \n",
            " 5   Grupo_etario          22920 non-null  object        \n",
            " 6   Cantidad              22920 non-null  int64         \n",
            " 7   fecha                 22920 non-null  datetime64[ns]\n",
            " 8   semestre              22920 non-null  int64         \n",
            " 9   año                   22920 non-null  int32         \n",
            " 10  avg_accidents         22920 non-null  float64       \n",
            " 11  Departamento_encoded  22920 non-null  float64       \n",
            " 12  Municipio_encoded     22920 non-null  float64       \n",
            " 13  Armas_medios_encoded  22920 non-null  float64       \n",
            "dtypes: datetime64[ns](1), float64(4), int32(1), int64(2), object(6)\n",
            "memory usage: 2.4+ MB\n"
          ]
        }
      ]
    },
    {
      "cell_type": "code",
      "source": [
        "# 3. Crear variable objetivo\n",
        "y = create_target_variable(df_procesado)"
      ],
      "metadata": {
        "id": "8_BTYKwEA7HQ"
      },
      "execution_count": null,
      "outputs": []
    },
    {
      "cell_type": "code",
      "source": [
        "# 4. Preparar características\n",
        "X = prepare_features(df_procesado)"
      ],
      "metadata": {
        "id": "QnkSkAQYBZzc"
      },
      "execution_count": null,
      "outputs": []
    },
    {
      "cell_type": "code",
      "source": [
        "# 5. Entrenar modelo\n",
        "print(\"Entrenando modelo...\")\n",
        "modelo, X_test, y_test = train_model(X, y)"
      ],
      "metadata": {
        "colab": {
          "base_uri": "https://localhost:8080/"
        },
        "id": "6JliBJGpA-zG",
        "outputId": "62305a77-0856-4914-9cbe-9529078957f4"
      },
      "execution_count": null,
      "outputs": [
        {
          "output_type": "stream",
          "name": "stdout",
          "text": [
            "Entrenando modelo...\n",
            "\n",
            "CV Scores: [0.98913043 0.97826087 0.91304348 0.93478261 0.95604396]\n",
            "Mean CV Score: 0.954 (+/- 0.056)\n"
          ]
        }
      ]
    },
    {
      "cell_type": "code",
      "source": [
        "# 6. Evaluar modelo\n",
        "print(\"Evaluando modelo...\")\n",
        "evaluate_model(modelo, X_test, y_test)"
      ],
      "metadata": {
        "colab": {
          "base_uri": "https://localhost:8080/",
          "height": 1000
        },
        "id": "LibnSG4eBBpq",
        "outputId": "a14640a4-6a66-4167-edec-7a39cfb8a314"
      },
      "execution_count": null,
      "outputs": [
        {
          "output_type": "stream",
          "name": "stdout",
          "text": [
            "Evaluando modelo...\n",
            "\n",
            "Reporte de clasificación:\n",
            "              precision    recall  f1-score   support\n",
            "\n",
            "           0       0.98      0.89      0.93       148\n",
            "           1       0.73      0.96      0.83        49\n",
            "\n",
            "    accuracy                           0.90       197\n",
            "   macro avg       0.86      0.92      0.88       197\n",
            "weighted avg       0.92      0.90      0.91       197\n",
            "\n"
          ]
        },
        {
          "output_type": "display_data",
          "data": {
            "text/plain": [
              "<Figure size 800x600 with 2 Axes>"
            ],
            "image/png": "[encoded data removed]"
          },
          "metadata": {}
        },
        {
          "output_type": "stream",
          "name": "stdout",
          "text": [
            "\n",
            "Importancia de características:\n",
            "                feature  importance\n",
            "3         avg_accidents    0.617636\n",
            "1     Municipio_encoded    0.345600\n",
            "0  Departamento_encoded    0.034353\n",
            "2              semestre    0.002412\n"
          ]
        },
        {
          "output_type": "display_data",
          "data": {
            "text/plain": [
              "<Figure size 800x600 with 1 Axes>"
            ],
            "image/png": "[encoded data removed]"
          },
          "metadata": {}
        },
        {
          "output_type": "execute_result",
          "data": {
            "text/plain": [
              "                feature  importance\n",
              "3         avg_accidents    0.617636\n",
              "1     Municipio_encoded    0.345600\n",
              "0  Departamento_encoded    0.034353\n",
              "2              semestre    0.002412"
            ],
            "text/html": [
              "\n",
              "  <div id=\"df-baa0dea1-ba07-4b58-b273-a571bae233fe\" class=\"colab-df-container\">\n",
              "    <div>\n",
              "<style scoped>\n",
              "    .dataframe tbody tr th:only-of-type {\n",
              "        vertical-align: middle;\n",
              "    }\n",
              "\n",
              "    .dataframe tbody tr th {\n",
              "        vertical-align: top;\n",
              "    }\n",
              "\n",
              "    .dataframe thead th {\n",
              "        text-align: right;\n",
              "    }\n",
              "</style>\n",
              "<table border=\"1\" class=\"dataframe\">\n",
              "  <thead>\n",
              "    <tr style=\"text-align: right;\">\n",
              "      <th></th>\n",
              "      <th>feature</th>\n",
              "      <th>importance</th>\n",
              "    </tr>\n",
              "  </thead>\n",
              "  <tbody>\n",
              "    <tr>\n",
              "      <th>3</th>\n",
              "      <td>avg_accidents</td>\n",
              "      <td>0.617636</td>\n",
              "    </tr>\n",
              "    <tr>\n",
              "      <th>1</th>\n",
              "      <td>Municipio_encoded</td>\n",
              "      <td>0.345600</td>\n",
              "    </tr>\n",
              "    <tr>\n",
              "      <th>0</th>\n",
              "      <td>Departamento_encoded</td>\n",
              "      <td>0.034353</td>\n",
              "    </tr>\n",
              "    <tr>\n",
              "      <th>2</th>\n",
              "      <td>semestre</td>\n",
              "      <td>0.002412</td>\n",
              "    </tr>\n",
              "  </tbody>\n",
              "</table>\n",
              "</div>\n",
              "    <div class=\"colab-df-buttons\">\n",
              "\n",
              "  <div class=\"colab-df-container\">\n",
              "    <button class=\"colab-df-convert\" onclick=\"convertToInteractive('df-baa0dea1-ba07-4b58-b273-a571bae233fe')\"\n",
              "            title=\"Convert this dataframe to an interactive table.\"\n",
              "            style=\"display:none;\">\n",
              "\n",
              "  <svg xmlns=\"http://www.w3.org/2000/svg\" height=\"24px\" viewBox=\"0 -960 960 960\">\n",
              "    <path d=\"M120-120v-720h720v720H120Zm60-500h600v-160H180v160Zm220 220h160v-160H400v160Zm0 220h160v-160H400v160ZM180-400h160v-160H180v160Zm440 0h160v-160H620v160ZM180-180h160v-160H180v160Zm440 0h160v-160H620v160Z\"/>\n",
              "  </svg>\n",
              "    </button>\n",
              "\n",
              "  <style>\n",
              "    .colab-df-container {\n",
              "      display:flex;\n",
              "      gap: 12px;\n",
              "    }\n",
              "\n",
              "    .colab-df-convert {\n",
              "      background-color: #E8F0FE;\n",
              "      border: none;\n",
              "      border-radius: 50%;\n",
              "      cursor: pointer;\n",
              "      display: none;\n",
              "      fill: #1967D2;\n",
              "      height: 32px;\n",
              "      padding: 0 0 0 0;\n",
              "      width: 32px;\n",
              "    }\n",
              "\n",
              "    .colab-df-convert:hover {\n",
              "      background-color: #E2EBFA;\n",
              "      box-shadow: 0px 1px 2px rgba(60, 64, 67, 0.3), 0px 1px 3px 1px rgba(60, 64, 67, 0.15);\n",
              "      fill: #174EA6;\n",
              "    }\n",
              "\n",
              "    .colab-df-buttons div {\n",
              "      margin-bottom: 4px;\n",
              "    }\n",
              "\n",
              "    [theme=dark] .colab-df-convert {\n",
              "      background-color: #3B4455;\n",
              "      fill: #D2E3FC;\n",
              "    }\n",
              "\n",
              "    [theme=dark] .colab-df-convert:hover {\n",
              "      background-color: #434B5C;\n",
              "      box-shadow: 0px 1px 3px 1px rgba(0, 0, 0, 0.15);\n",
              "      filter: drop-shadow(0px 1px 2px rgba(0, 0, 0, 0.3));\n",
              "      fill: #FFFFFF;\n",
              "    }\n",
              "  </style>\n",
              "\n",
              "    <script>\n",
              "      const buttonEl =\n",
              "        document.querySelector('#df-baa0dea1-ba07-4b58-b273-a571bae233fe button.colab-df-convert');\n",
              "      buttonEl.style.display =\n",
              "        google.colab.kernel.accessAllowed ? 'block' : 'none';\n",
              "\n",
              "      async function convertToInteractive(key) {\n",
              "        const element = document.querySelector('#df-baa0dea1-ba07-4b58-b273-a571bae233fe');\n",
              "        const dataTable =\n",
              "          await google.colab.kernel.invokeFunction('convertToInteractive',\n",
              "                                                    [key], {});\n",
              "        if (!dataTable) return;\n",
              "\n",
              "        const docLinkHtml = 'Like what you see? Visit the ' +\n",
              "          '<a target=\"_blank\" href=https://colab.research.google.com/notebooks/data_table.ipynb>data table notebook</a>'\n",
              "          + ' to learn more about interactive tables.';\n",
              "        element.innerHTML = '';\n",
              "        dataTable['output_type'] = 'display_data';\n",
              "        await google.colab.output.renderOutput(dataTable, element);\n",
              "        const docLink = document.createElement('div');\n",
              "        docLink.innerHTML = docLinkHtml;\n",
              "        element.appendChild(docLink);\n",
              "      }\n",
              "    </script>\n",
              "  </div>\n",
              "\n",
              "\n",
              "<div id=\"df-381fe8cb-933b-46bb-8fec-311affd25518\">\n",
              "  <button class=\"colab-df-quickchart\" onclick=\"quickchart('df-381fe8cb-933b-46bb-8fec-311affd25518')\"\n",
              "            title=\"Suggest charts\"\n",
              "            style=\"display:none;\">\n",
              "\n",
              "<svg xmlns=\"http://www.w3.org/2000/svg\" height=\"24px\"viewBox=\"0 0 24 24\"\n",
              "     width=\"24px\">\n",
              "    <g>\n",
              "        <path d=\"M19 3H5c-1.1 0-2 .9-2 2v14c0 1.1.9 2 2 2h14c1.1 0 2-.9 2-2V5c0-1.1-.9-2-2-2zM9 17H7v-7h2v7zm4 0h-2V7h2v10zm4 0h-2v-4h2v4z\"/>\n",
              "    </g>\n",
              "</svg>\n",
              "  </button>\n",
              "\n",
              "<style>\n",
              "  .colab-df-quickchart {\n",
              "      --bg-color: #E8F0FE;\n",
              "      --fill-color: #1967D2;\n",
              "      --hover-bg-color: #E2EBFA;\n",
              "      --hover-fill-color: #174EA6;\n",
              "      --disabled-fill-color: #AAA;\n",
              "      --disabled-bg-color: #DDD;\n",
              "  }\n",
              "\n",
              "  [theme=dark] .colab-df-quickchart {\n",
              "      --bg-color: #3B4455;\n",
              "      --fill-color: #D2E3FC;\n",
              "      --hover-bg-color: #434B5C;\n",
              "      --hover-fill-color: #FFFFFF;\n",
              "      --disabled-bg-color: #3B4455;\n",
              "      --disabled-fill-color: #666;\n",
              "  }\n",
              "\n",
              "  .colab-df-quickchart {\n",
              "    background-color: var(--bg-color);\n",
              "    border: none;\n",
              "    border-radius: 50%;\n",
              "    cursor: pointer;\n",
              "    display: none;\n",
              "    fill: var(--fill-color);\n",
              "    height: 32px;\n",
              "    padding: 0;\n",
              "    width: 32px;\n",
              "  }\n",
              "\n",
              "  .colab-df-quickchart:hover {\n",
              "    background-color: var(--hover-bg-color);\n",
              "    box-shadow: 0 1px 2px rgba(60, 64, 67, 0.3), 0 1px 3px 1px rgba(60, 64, 67, 0.15);\n",
              "    fill: var(--button-hover-fill-color);\n",
              "  }\n",
              "\n",
              "  .colab-df-quickchart-complete:disabled,\n",
              "  .colab-df-quickchart-complete:disabled:hover {\n",
              "    background-color: var(--disabled-bg-color);\n",
              "    fill: var(--disabled-fill-color);\n",
              "    box-shadow: none;\n",
              "  }\n",
              "\n",
              "  .colab-df-spinner {\n",
              "    border: 2px solid var(--fill-color);\n",
              "    border-color: transparent;\n",
              "    border-bottom-color: var(--fill-color);\n",
              "    animation:\n",
              "      spin 1s steps(1) infinite;\n",
              "  }\n",
              "\n",
              "  @keyframes spin {\n",
              "    0% {\n",
              "      border-color: transparent;\n",
              "      border-bottom-color: var(--fill-color);\n",
              "      border-left-color: var(--fill-color);\n",
              "    }\n",
              "    20% {\n",
              "      border-color: transparent;\n",
              "      border-left-color: var(--fill-color);\n",
              "      border-top-color: var(--fill-color);\n",
              "    }\n",
              "    30% {\n",
              "      border-color: transparent;\n",
              "      border-left-color: var(--fill-color);\n",
              "      border-top-color: var(--fill-color);\n",
              "      border-right-color: var(--fill-color);\n",
              "    }\n",
              "    40% {\n",
              "      border-color: transparent;\n",
              "      border-right-color: var(--fill-color);\n",
              "      border-top-color: var(--fill-color);\n",
              "    }\n",
              "    60% {\n",
              "      border-color: transparent;\n",
              "      border-right-color: var(--fill-color);\n",
              "    }\n",
              "    80% {\n",
              "      border-color: transparent;\n",
              "      border-right-color: var(--fill-color);\n",
              "      border-bottom-color: var(--fill-color);\n",
              "    }\n",
              "    90% {\n",
              "      border-color: transparent;\n",
              "      border-bottom-color: var(--fill-color);\n",
              "    }\n",
              "  }\n",
              "</style>\n",
              "\n",
              "  <script>\n",
              "    async function quickchart(key) {\n",
              "      const quickchartButtonEl =\n",
              "        document.querySelector('#' + key + ' button');\n",
              "      quickchartButtonEl.disabled = true;  // To prevent multiple clicks.\n",
              "      quickchartButtonEl.classList.add('colab-df-spinner');\n",
              "      try {\n",
              "        const charts = await google.colab.kernel.invokeFunction(\n",
              "            'suggestCharts', [key], {});\n",
              "      } catch (error) {\n",
              "        console.error('Error during call to suggestCharts:', error);\n",
              "      }\n",
              "      quickchartButtonEl.classList.remove('colab-df-spinner');\n",
              "      quickchartButtonEl.classList.add('colab-df-quickchart-complete');\n",
              "    }\n",
              "    (() => {\n",
              "      let quickchartButtonEl =\n",
              "        document.querySelector('#df-381fe8cb-933b-46bb-8fec-311affd25518 button');\n",
              "      quickchartButtonEl.style.display =\n",
              "        google.colab.kernel.accessAllowed ? 'block' : 'none';\n",
              "    })();\n",
              "  </script>\n",
              "</div>\n",
              "\n",
              "    </div>\n",
              "  </div>\n"
            ],
            "application/vnd.google.colaboratory.intrinsic+json": {
              "type": "dataframe",
              "summary": "{\n  \"name\": \"evaluate_model(modelo, X_test, y_test)\",\n  \"rows\": 4,\n  \"fields\": [\n    {\n      \"column\": \"feature\",\n      \"properties\": {\n        \"dtype\": \"string\",\n        \"num_unique_values\": 4,\n        \"samples\": [\n          \"Municipio_encoded\",\n          \"semestre\",\n          \"avg_accidents\"\n        ],\n        \"semantic_type\": \"\",\n        \"description\": \"\"\n      }\n    },\n    {\n      \"column\": \"importance\",\n      \"properties\": {\n        \"dtype\": \"number\",\n        \"std\": 0.28988443520869056,\n        \"min\": 0.0024115642965780054,\n        \"max\": 0.6176357992838003,\n        \"num_unique_values\": 4,\n        \"samples\": [\n          0.3455995140521701,\n          0.0024115642965780054,\n          0.6176357992838003\n        ],\n        \"semantic_type\": \"\",\n        \"description\": \"\"\n      }\n    }\n  ]\n}"
            }
          },
          "metadata": {},
          "execution_count": 13
        }
      ]
    },
    {
      "cell_type": "code",
      "source": [
        "# 7. Ejemplo de predicción\n",
        "print(\"\\nEjemplo de predicción:\")\n",
        "# Crear un ejemplo de nuevo dato\n",
        "nuevo_dato = pd.DataFrame({\n",
        "    'Departamento_encoded': [2.1],  # Valor ejemplo con ruido\n",
        "    'Municipio_encoded': [5.2],     # Valor ejemplo con ruido\n",
        "    'semestre': [1],                # Segundo semestre\n",
        "    'avg_accidents': [0.5]          # Valor normalizado ejemplo\n",
        "})\n",
        "\n",
        "# Realizar predicción\n",
        "prediccion, probabilidad = make_prediction(modelo, nuevo_dato)\n",
        "\n",
        "print(f\"Datos de entrada:\")\n",
        "print(nuevo_dato)\n",
        "print(f\"\\nPredicción: {'Alto riesgo' if prediccion == 1 else 'Bajo riesgo'}\")\n",
        "print(f\"Probabilidad de alto riesgo: {probabilidad:.2%}\")"
      ],
      "metadata": {
        "id": "vIJKA3LL88nZ",
        "colab": {
          "base_uri": "https://localhost:8080/"
        },
        "outputId": "5d9fc09b-96f7-44d8-b200-e1023a7c1953"
      },
      "execution_count": null,
      "outputs": [
        {
          "output_type": "stream",
          "name": "stdout",
          "text": [
            "\n",
            "Ejemplo de predicción:\n",
            "Datos de entrada:\n",
            "   Departamento_encoded  Municipio_encoded  semestre  avg_accidents\n",
            "0                   2.1                5.2         1            0.5\n",
            "\n",
            "Predicción: Bajo riesgo\n",
            "Probabilidad de alto riesgo: 5.52%\n"
          ]
        }
      ]
    }
  ]
}
